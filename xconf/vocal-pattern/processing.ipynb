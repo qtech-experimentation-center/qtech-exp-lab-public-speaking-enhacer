{
 "cells": [
  {
   "cell_type": "code",
   "execution_count": 16,
   "metadata": {
    "collapsed": true
   },
   "outputs": [],
   "source": [
    "from pydub import AudioSegment\n",
    "\n",
    "juan_audio = AudioSegment.from_wav(\"data/juan.wav\")\n",
    "fausto_audio = AudioSegment.from_wav(\"data/fausto.wav\")\n",
    "sample_time = 3 * 1000 # 3 seconds"
   ]
  },
  {
   "cell_type": "code",
   "execution_count": 17,
   "outputs": [],
   "source": [
    "for i, clip_start in enumerate(range(0, len(juan_audio), sample_time)):\n",
    "    clip_end = clip_start + sample_time\n",
    "    clip_end = clip_end if clip_end < len(juan_audio) else len(juan_audio)\n",
    "    new_clip = juan_audio[clip_start:clip_end]\n",
    "    new_clip.export(f'data/juan/juan-{str(i).zfill(2)}.wav', format=\"wav\")"
   ],
   "metadata": {
    "collapsed": false,
    "pycharm": {
     "name": "#%%\n"
    }
   }
  },
  {
   "cell_type": "code",
   "execution_count": 18,
   "outputs": [],
   "source": [
    "for i, clip_start in enumerate(range(0, len(fausto_audio), sample_time)):\n",
    "    clip_end = clip_start + sample_time\n",
    "    clip_end = clip_end if clip_end < len(fausto_audio) else len(fausto_audio)\n",
    "    new_clip = fausto_audio[clip_start:clip_end]\n",
    "    new_clip.export(f'data/fausto/fausto-{str(i).zfill(2)}.wav', format=\"wav\")"
   ],
   "metadata": {
    "collapsed": false,
    "pycharm": {
     "name": "#%%\n"
    }
   }
  },
  {
   "cell_type": "code",
   "execution_count": null,
   "outputs": [],
   "source": [],
   "metadata": {
    "collapsed": false,
    "pycharm": {
     "name": "#%%\n"
    }
   }
  }
 ],
 "metadata": {
  "kernelspec": {
   "display_name": "Python 3",
   "language": "python",
   "name": "python3"
  },
  "language_info": {
   "codemirror_mode": {
    "name": "ipython",
    "version": 2
   },
   "file_extension": ".py",
   "mimetype": "text/x-python",
   "name": "python",
   "nbconvert_exporter": "python",
   "pygments_lexer": "ipython2",
   "version": "2.7.6"
  }
 },
 "nbformat": 4,
 "nbformat_minor": 0
}